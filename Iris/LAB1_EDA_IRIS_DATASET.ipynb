{
 "cells": [
  {
   "cell_type": "markdown",
   "metadata": {
    "id": "xRhYiQqLIs46"
   },
   "source": [
    "# IRIS DATASET: EXPLORATORY DATA ANALYSIS"
   ]
  },
  {
   "cell_type": "code",
   "execution_count": 1,
   "metadata": {
    "id": "FMudUiyOIz5b"
   },
   "outputs": [],
   "source": [
    "# importing libraries\n",
    "import pandas as pd\n",
    "import numpy as np\n",
    "import matplotlib.pyplot as plt\n",
    "import seaborn as sns\n",
    "%matplotlib inline"
   ]
  },
  {
   "cell_type": "code",
   "execution_count": 2,
   "metadata": {
    "id": "TVtwDDBlMXB2"
   },
   "outputs": [
    {
     "ename": "FileNotFoundError",
     "evalue": "[Errno 2] No such file or directory: 'IRIS.csv'",
     "output_type": "error",
     "traceback": [
      "\u001b[1;31m---------------------------------------------------------------------------\u001b[0m",
      "\u001b[1;31mFileNotFoundError\u001b[0m                         Traceback (most recent call last)",
      "Cell \u001b[1;32mIn[2], line 2\u001b[0m\n\u001b[0;32m      1\u001b[0m \u001b[38;5;66;03m# Loading the dataset\u001b[39;00m\n\u001b[1;32m----> 2\u001b[0m data \u001b[38;5;241m=\u001b[39m \u001b[43mpd\u001b[49m\u001b[38;5;241;43m.\u001b[39;49m\u001b[43mread_csv\u001b[49m\u001b[43m(\u001b[49m\u001b[38;5;124;43m'\u001b[39;49m\u001b[38;5;124;43mIRIS.csv\u001b[39;49m\u001b[38;5;124;43m'\u001b[39;49m\u001b[43m)\u001b[49m\n",
      "File \u001b[1;32m~\\AppData\\Local\\Programs\\Python\\Python312\\Lib\\site-packages\\pandas\\io\\parsers\\readers.py:1026\u001b[0m, in \u001b[0;36mread_csv\u001b[1;34m(filepath_or_buffer, sep, delimiter, header, names, index_col, usecols, dtype, engine, converters, true_values, false_values, skipinitialspace, skiprows, skipfooter, nrows, na_values, keep_default_na, na_filter, verbose, skip_blank_lines, parse_dates, infer_datetime_format, keep_date_col, date_parser, date_format, dayfirst, cache_dates, iterator, chunksize, compression, thousands, decimal, lineterminator, quotechar, quoting, doublequote, escapechar, comment, encoding, encoding_errors, dialect, on_bad_lines, delim_whitespace, low_memory, memory_map, float_precision, storage_options, dtype_backend)\u001b[0m\n\u001b[0;32m   1013\u001b[0m kwds_defaults \u001b[38;5;241m=\u001b[39m _refine_defaults_read(\n\u001b[0;32m   1014\u001b[0m     dialect,\n\u001b[0;32m   1015\u001b[0m     delimiter,\n\u001b[1;32m   (...)\u001b[0m\n\u001b[0;32m   1022\u001b[0m     dtype_backend\u001b[38;5;241m=\u001b[39mdtype_backend,\n\u001b[0;32m   1023\u001b[0m )\n\u001b[0;32m   1024\u001b[0m kwds\u001b[38;5;241m.\u001b[39mupdate(kwds_defaults)\n\u001b[1;32m-> 1026\u001b[0m \u001b[38;5;28;01mreturn\u001b[39;00m \u001b[43m_read\u001b[49m\u001b[43m(\u001b[49m\u001b[43mfilepath_or_buffer\u001b[49m\u001b[43m,\u001b[49m\u001b[43m \u001b[49m\u001b[43mkwds\u001b[49m\u001b[43m)\u001b[49m\n",
      "File \u001b[1;32m~\\AppData\\Local\\Programs\\Python\\Python312\\Lib\\site-packages\\pandas\\io\\parsers\\readers.py:620\u001b[0m, in \u001b[0;36m_read\u001b[1;34m(filepath_or_buffer, kwds)\u001b[0m\n\u001b[0;32m    617\u001b[0m _validate_names(kwds\u001b[38;5;241m.\u001b[39mget(\u001b[38;5;124m\"\u001b[39m\u001b[38;5;124mnames\u001b[39m\u001b[38;5;124m\"\u001b[39m, \u001b[38;5;28;01mNone\u001b[39;00m))\n\u001b[0;32m    619\u001b[0m \u001b[38;5;66;03m# Create the parser.\u001b[39;00m\n\u001b[1;32m--> 620\u001b[0m parser \u001b[38;5;241m=\u001b[39m \u001b[43mTextFileReader\u001b[49m\u001b[43m(\u001b[49m\u001b[43mfilepath_or_buffer\u001b[49m\u001b[43m,\u001b[49m\u001b[43m \u001b[49m\u001b[38;5;241;43m*\u001b[39;49m\u001b[38;5;241;43m*\u001b[39;49m\u001b[43mkwds\u001b[49m\u001b[43m)\u001b[49m\n\u001b[0;32m    622\u001b[0m \u001b[38;5;28;01mif\u001b[39;00m chunksize \u001b[38;5;129;01mor\u001b[39;00m iterator:\n\u001b[0;32m    623\u001b[0m     \u001b[38;5;28;01mreturn\u001b[39;00m parser\n",
      "File \u001b[1;32m~\\AppData\\Local\\Programs\\Python\\Python312\\Lib\\site-packages\\pandas\\io\\parsers\\readers.py:1620\u001b[0m, in \u001b[0;36mTextFileReader.__init__\u001b[1;34m(self, f, engine, **kwds)\u001b[0m\n\u001b[0;32m   1617\u001b[0m     \u001b[38;5;28mself\u001b[39m\u001b[38;5;241m.\u001b[39moptions[\u001b[38;5;124m\"\u001b[39m\u001b[38;5;124mhas_index_names\u001b[39m\u001b[38;5;124m\"\u001b[39m] \u001b[38;5;241m=\u001b[39m kwds[\u001b[38;5;124m\"\u001b[39m\u001b[38;5;124mhas_index_names\u001b[39m\u001b[38;5;124m\"\u001b[39m]\n\u001b[0;32m   1619\u001b[0m \u001b[38;5;28mself\u001b[39m\u001b[38;5;241m.\u001b[39mhandles: IOHandles \u001b[38;5;241m|\u001b[39m \u001b[38;5;28;01mNone\u001b[39;00m \u001b[38;5;241m=\u001b[39m \u001b[38;5;28;01mNone\u001b[39;00m\n\u001b[1;32m-> 1620\u001b[0m \u001b[38;5;28mself\u001b[39m\u001b[38;5;241m.\u001b[39m_engine \u001b[38;5;241m=\u001b[39m \u001b[38;5;28;43mself\u001b[39;49m\u001b[38;5;241;43m.\u001b[39;49m\u001b[43m_make_engine\u001b[49m\u001b[43m(\u001b[49m\u001b[43mf\u001b[49m\u001b[43m,\u001b[49m\u001b[43m \u001b[49m\u001b[38;5;28;43mself\u001b[39;49m\u001b[38;5;241;43m.\u001b[39;49m\u001b[43mengine\u001b[49m\u001b[43m)\u001b[49m\n",
      "File \u001b[1;32m~\\AppData\\Local\\Programs\\Python\\Python312\\Lib\\site-packages\\pandas\\io\\parsers\\readers.py:1880\u001b[0m, in \u001b[0;36mTextFileReader._make_engine\u001b[1;34m(self, f, engine)\u001b[0m\n\u001b[0;32m   1878\u001b[0m     \u001b[38;5;28;01mif\u001b[39;00m \u001b[38;5;124m\"\u001b[39m\u001b[38;5;124mb\u001b[39m\u001b[38;5;124m\"\u001b[39m \u001b[38;5;129;01mnot\u001b[39;00m \u001b[38;5;129;01min\u001b[39;00m mode:\n\u001b[0;32m   1879\u001b[0m         mode \u001b[38;5;241m+\u001b[39m\u001b[38;5;241m=\u001b[39m \u001b[38;5;124m\"\u001b[39m\u001b[38;5;124mb\u001b[39m\u001b[38;5;124m\"\u001b[39m\n\u001b[1;32m-> 1880\u001b[0m \u001b[38;5;28mself\u001b[39m\u001b[38;5;241m.\u001b[39mhandles \u001b[38;5;241m=\u001b[39m \u001b[43mget_handle\u001b[49m\u001b[43m(\u001b[49m\n\u001b[0;32m   1881\u001b[0m \u001b[43m    \u001b[49m\u001b[43mf\u001b[49m\u001b[43m,\u001b[49m\n\u001b[0;32m   1882\u001b[0m \u001b[43m    \u001b[49m\u001b[43mmode\u001b[49m\u001b[43m,\u001b[49m\n\u001b[0;32m   1883\u001b[0m \u001b[43m    \u001b[49m\u001b[43mencoding\u001b[49m\u001b[38;5;241;43m=\u001b[39;49m\u001b[38;5;28;43mself\u001b[39;49m\u001b[38;5;241;43m.\u001b[39;49m\u001b[43moptions\u001b[49m\u001b[38;5;241;43m.\u001b[39;49m\u001b[43mget\u001b[49m\u001b[43m(\u001b[49m\u001b[38;5;124;43m\"\u001b[39;49m\u001b[38;5;124;43mencoding\u001b[39;49m\u001b[38;5;124;43m\"\u001b[39;49m\u001b[43m,\u001b[49m\u001b[43m \u001b[49m\u001b[38;5;28;43;01mNone\u001b[39;49;00m\u001b[43m)\u001b[49m\u001b[43m,\u001b[49m\n\u001b[0;32m   1884\u001b[0m \u001b[43m    \u001b[49m\u001b[43mcompression\u001b[49m\u001b[38;5;241;43m=\u001b[39;49m\u001b[38;5;28;43mself\u001b[39;49m\u001b[38;5;241;43m.\u001b[39;49m\u001b[43moptions\u001b[49m\u001b[38;5;241;43m.\u001b[39;49m\u001b[43mget\u001b[49m\u001b[43m(\u001b[49m\u001b[38;5;124;43m\"\u001b[39;49m\u001b[38;5;124;43mcompression\u001b[39;49m\u001b[38;5;124;43m\"\u001b[39;49m\u001b[43m,\u001b[49m\u001b[43m \u001b[49m\u001b[38;5;28;43;01mNone\u001b[39;49;00m\u001b[43m)\u001b[49m\u001b[43m,\u001b[49m\n\u001b[0;32m   1885\u001b[0m \u001b[43m    \u001b[49m\u001b[43mmemory_map\u001b[49m\u001b[38;5;241;43m=\u001b[39;49m\u001b[38;5;28;43mself\u001b[39;49m\u001b[38;5;241;43m.\u001b[39;49m\u001b[43moptions\u001b[49m\u001b[38;5;241;43m.\u001b[39;49m\u001b[43mget\u001b[49m\u001b[43m(\u001b[49m\u001b[38;5;124;43m\"\u001b[39;49m\u001b[38;5;124;43mmemory_map\u001b[39;49m\u001b[38;5;124;43m\"\u001b[39;49m\u001b[43m,\u001b[49m\u001b[43m \u001b[49m\u001b[38;5;28;43;01mFalse\u001b[39;49;00m\u001b[43m)\u001b[49m\u001b[43m,\u001b[49m\n\u001b[0;32m   1886\u001b[0m \u001b[43m    \u001b[49m\u001b[43mis_text\u001b[49m\u001b[38;5;241;43m=\u001b[39;49m\u001b[43mis_text\u001b[49m\u001b[43m,\u001b[49m\n\u001b[0;32m   1887\u001b[0m \u001b[43m    \u001b[49m\u001b[43merrors\u001b[49m\u001b[38;5;241;43m=\u001b[39;49m\u001b[38;5;28;43mself\u001b[39;49m\u001b[38;5;241;43m.\u001b[39;49m\u001b[43moptions\u001b[49m\u001b[38;5;241;43m.\u001b[39;49m\u001b[43mget\u001b[49m\u001b[43m(\u001b[49m\u001b[38;5;124;43m\"\u001b[39;49m\u001b[38;5;124;43mencoding_errors\u001b[39;49m\u001b[38;5;124;43m\"\u001b[39;49m\u001b[43m,\u001b[49m\u001b[43m \u001b[49m\u001b[38;5;124;43m\"\u001b[39;49m\u001b[38;5;124;43mstrict\u001b[39;49m\u001b[38;5;124;43m\"\u001b[39;49m\u001b[43m)\u001b[49m\u001b[43m,\u001b[49m\n\u001b[0;32m   1888\u001b[0m \u001b[43m    \u001b[49m\u001b[43mstorage_options\u001b[49m\u001b[38;5;241;43m=\u001b[39;49m\u001b[38;5;28;43mself\u001b[39;49m\u001b[38;5;241;43m.\u001b[39;49m\u001b[43moptions\u001b[49m\u001b[38;5;241;43m.\u001b[39;49m\u001b[43mget\u001b[49m\u001b[43m(\u001b[49m\u001b[38;5;124;43m\"\u001b[39;49m\u001b[38;5;124;43mstorage_options\u001b[39;49m\u001b[38;5;124;43m\"\u001b[39;49m\u001b[43m,\u001b[49m\u001b[43m \u001b[49m\u001b[38;5;28;43;01mNone\u001b[39;49;00m\u001b[43m)\u001b[49m\u001b[43m,\u001b[49m\n\u001b[0;32m   1889\u001b[0m \u001b[43m\u001b[49m\u001b[43m)\u001b[49m\n\u001b[0;32m   1890\u001b[0m \u001b[38;5;28;01massert\u001b[39;00m \u001b[38;5;28mself\u001b[39m\u001b[38;5;241m.\u001b[39mhandles \u001b[38;5;129;01mis\u001b[39;00m \u001b[38;5;129;01mnot\u001b[39;00m \u001b[38;5;28;01mNone\u001b[39;00m\n\u001b[0;32m   1891\u001b[0m f \u001b[38;5;241m=\u001b[39m \u001b[38;5;28mself\u001b[39m\u001b[38;5;241m.\u001b[39mhandles\u001b[38;5;241m.\u001b[39mhandle\n",
      "File \u001b[1;32m~\\AppData\\Local\\Programs\\Python\\Python312\\Lib\\site-packages\\pandas\\io\\common.py:873\u001b[0m, in \u001b[0;36mget_handle\u001b[1;34m(path_or_buf, mode, encoding, compression, memory_map, is_text, errors, storage_options)\u001b[0m\n\u001b[0;32m    868\u001b[0m \u001b[38;5;28;01melif\u001b[39;00m \u001b[38;5;28misinstance\u001b[39m(handle, \u001b[38;5;28mstr\u001b[39m):\n\u001b[0;32m    869\u001b[0m     \u001b[38;5;66;03m# Check whether the filename is to be opened in binary mode.\u001b[39;00m\n\u001b[0;32m    870\u001b[0m     \u001b[38;5;66;03m# Binary mode does not support 'encoding' and 'newline'.\u001b[39;00m\n\u001b[0;32m    871\u001b[0m     \u001b[38;5;28;01mif\u001b[39;00m ioargs\u001b[38;5;241m.\u001b[39mencoding \u001b[38;5;129;01mand\u001b[39;00m \u001b[38;5;124m\"\u001b[39m\u001b[38;5;124mb\u001b[39m\u001b[38;5;124m\"\u001b[39m \u001b[38;5;129;01mnot\u001b[39;00m \u001b[38;5;129;01min\u001b[39;00m ioargs\u001b[38;5;241m.\u001b[39mmode:\n\u001b[0;32m    872\u001b[0m         \u001b[38;5;66;03m# Encoding\u001b[39;00m\n\u001b[1;32m--> 873\u001b[0m         handle \u001b[38;5;241m=\u001b[39m \u001b[38;5;28;43mopen\u001b[39;49m\u001b[43m(\u001b[49m\n\u001b[0;32m    874\u001b[0m \u001b[43m            \u001b[49m\u001b[43mhandle\u001b[49m\u001b[43m,\u001b[49m\n\u001b[0;32m    875\u001b[0m \u001b[43m            \u001b[49m\u001b[43mioargs\u001b[49m\u001b[38;5;241;43m.\u001b[39;49m\u001b[43mmode\u001b[49m\u001b[43m,\u001b[49m\n\u001b[0;32m    876\u001b[0m \u001b[43m            \u001b[49m\u001b[43mencoding\u001b[49m\u001b[38;5;241;43m=\u001b[39;49m\u001b[43mioargs\u001b[49m\u001b[38;5;241;43m.\u001b[39;49m\u001b[43mencoding\u001b[49m\u001b[43m,\u001b[49m\n\u001b[0;32m    877\u001b[0m \u001b[43m            \u001b[49m\u001b[43merrors\u001b[49m\u001b[38;5;241;43m=\u001b[39;49m\u001b[43merrors\u001b[49m\u001b[43m,\u001b[49m\n\u001b[0;32m    878\u001b[0m \u001b[43m            \u001b[49m\u001b[43mnewline\u001b[49m\u001b[38;5;241;43m=\u001b[39;49m\u001b[38;5;124;43m\"\u001b[39;49m\u001b[38;5;124;43m\"\u001b[39;49m\u001b[43m,\u001b[49m\n\u001b[0;32m    879\u001b[0m \u001b[43m        \u001b[49m\u001b[43m)\u001b[49m\n\u001b[0;32m    880\u001b[0m     \u001b[38;5;28;01melse\u001b[39;00m:\n\u001b[0;32m    881\u001b[0m         \u001b[38;5;66;03m# Binary mode\u001b[39;00m\n\u001b[0;32m    882\u001b[0m         handle \u001b[38;5;241m=\u001b[39m \u001b[38;5;28mopen\u001b[39m(handle, ioargs\u001b[38;5;241m.\u001b[39mmode)\n",
      "\u001b[1;31mFileNotFoundError\u001b[0m: [Errno 2] No such file or directory: 'IRIS.csv'"
     ]
    }
   ],
   "source": [
    "# Loading the dataset\n",
    "data = pd.read_csv('IRIS.csv')"
   ]
  },
  {
   "cell_type": "code",
   "execution_count": null,
   "metadata": {
    "colab": {
     "base_uri": "https://localhost:8080/",
     "height": 206
    },
    "id": "q975gjpCMyOP",
    "outputId": "f8c35090-b395-439c-8310-140bdab574b8"
   },
   "outputs": [],
   "source": [
    "data.head()"
   ]
  },
  {
   "cell_type": "markdown",
   "metadata": {
    "id": "xGZXXoWKM7W_"
   },
   "source": [
    "### Gaining information from data"
   ]
  },
  {
   "cell_type": "code",
   "execution_count": null,
   "metadata": {
    "colab": {
     "base_uri": "https://localhost:8080/",
     "height": 0
    },
    "id": "iB7Qp8xpNCF_",
    "outputId": "8c134170-665d-4c2c-938d-841d5b4ea944"
   },
   "outputs": [],
   "source": [
    "data.info()"
   ]
  },
  {
   "cell_type": "markdown",
   "metadata": {
    "id": "NuRLnhpnNJhi"
   },
   "source": [
    "**Data Insights:**\n",
    "\n",
    "1.  All columns are not having any Null Entries\n",
    "\n",
    "2.  Four columns are numerical type\n",
    "\n",
    "3.  Only Single column categorical type"
   ]
  },
  {
   "cell_type": "markdown",
   "metadata": {
    "id": "RPLgeNO3NUEU"
   },
   "source": [
    "#### Statistical Insight"
   ]
  },
  {
   "cell_type": "code",
   "execution_count": null,
   "metadata": {
    "colab": {
     "base_uri": "https://localhost:8080/",
     "height": 300
    },
    "id": "L5J67b0nNQpf",
    "outputId": "ac57dc48-8b21-4b92-f329-0e03f2c19c8e"
   },
   "outputs": [],
   "source": [
    "data.describe()"
   ]
  },
  {
   "cell_type": "markdown",
   "metadata": {
    "id": "qxaQe4WANgTh"
   },
   "source": [
    "**Data Insights**:\n",
    "\n",
    "1. Mean values\n",
    "2. Standard Deviation\n",
    "3. Minimum Values\n",
    "4. Maximum Values"
   ]
  },
  {
   "cell_type": "markdown",
   "metadata": {
    "id": "OwDlqMfCNywa"
   },
   "source": [
    "#### Checking For Duplicate Entries"
   ]
  },
  {
   "cell_type": "code",
   "execution_count": null,
   "metadata": {
    "colab": {
     "base_uri": "https://localhost:8080/",
     "height": 143
    },
    "id": "Z4_pSjz0Nbbk",
    "outputId": "4f8dda5c-765d-4010-8f9e-da16b0a2f6c3"
   },
   "outputs": [],
   "source": [
    "data[data.duplicated()]"
   ]
  },
  {
   "cell_type": "markdown",
   "metadata": {
    "id": "d576lgjaOH_t"
   },
   "source": [
    "##### There are 3 duplicates, therefore we must check whether each species data set is balanced in no's or no."
   ]
  },
  {
   "cell_type": "markdown",
   "metadata": {
    "id": "9fpC_T50OIK7"
   },
   "source": [
    "#### Checking the balance"
   ]
  },
  {
   "cell_type": "code",
   "execution_count": null,
   "metadata": {
    "colab": {
     "base_uri": "https://localhost:8080/",
     "height": 0
    },
    "id": "i-7O5PtZN5I9",
    "outputId": "94bdaf71-3e68-4178-c5e0-9a4943ed4a72"
   },
   "outputs": [],
   "source": [
    "data['species'].value_counts()"
   ]
  },
  {
   "cell_type": "markdown",
   "metadata": {
    "id": "rF9oH4mvOcye"
   },
   "source": [
    "##### Each species has 50 records each. Therefore we shouldn’t delete the entries as it might imbalance the data sets and hence will prove to be less useful for valuable insights."
   ]
  },
  {
   "cell_type": "markdown",
   "metadata": {
    "id": "-Wh6dlbNO7jS"
   },
   "source": [
    "#### Checking for Missing Values"
   ]
  },
  {
   "cell_type": "code",
   "execution_count": null,
   "metadata": {
    "colab": {
     "base_uri": "https://localhost:8080/",
     "height": 0
    },
    "id": "OYFOfB9GOhrB",
    "outputId": "5565ec0b-817a-4582-8142-c5ca56939443"
   },
   "outputs": [],
   "source": [
    "data.isnull().sum()"
   ]
  },
  {
   "cell_type": "code",
   "execution_count": null,
   "metadata": {
    "id": "cs811KmjPCmg"
   },
   "outputs": [],
   "source": [
    "##### There are no missing values in our dataset. Hence we proceed with Data Visualization."
   ]
  },
  {
   "cell_type": "markdown",
   "metadata": {
    "id": "3q_PHP4NPRbu"
   },
   "source": [
    "### Data Visualization"
   ]
  },
  {
   "cell_type": "markdown",
   "metadata": {
    "id": "hg4CKcHLPXcp"
   },
   "source": [
    "#### Getting the Species Count using Count Plot"
   ]
  },
  {
   "cell_type": "code",
   "execution_count": null,
   "metadata": {
    "colab": {
     "base_uri": "https://localhost:8080/",
     "height": 576
    },
    "id": "MJbkfJawPUn_",
    "outputId": "1f4813d2-c032-463e-e38c-2584120beb7f"
   },
   "outputs": [],
   "source": [
    "plt.title(\"Species Count\")\n",
    "sns.countplot(data['species'], palette = \"pastel\")"
   ]
  },
  {
   "cell_type": "markdown",
   "metadata": {
    "id": "xpx24bpmQMai"
   },
   "source": [
    "**Data Insight:**\n",
    "\n",
    "\n",
    "*   This further visualizes that species are well balanced\n",
    "*   Each species ( Iris virginica, setosa, versicolor) has 50 as it’s count."
   ]
  },
  {
   "cell_type": "markdown",
   "metadata": {
    "id": "6tS06lCSQwGi"
   },
   "source": [
    "#### UNIVARIATE ANALYSIS BY SCATTER PLOT"
   ]
  },
  {
   "cell_type": "markdown",
   "metadata": {
    "id": "1O9Wic_-Q0YC"
   },
   "source": [
    "##### Comparison between various species based on sepal length and width"
   ]
  },
  {
   "cell_type": "code",
   "execution_count": null,
   "metadata": {
    "colab": {
     "base_uri": "https://localhost:8080/",
     "height": 812
    },
    "id": "rE00VlQNQJcu",
    "outputId": "03ae464f-f8b3-4da8-a419-adc037a99433"
   },
   "outputs": [],
   "source": [
    "plt.figure(figsize = (17,9))\n",
    "plt.title(\"Comparision between various species based on Sepal Length and Width.\")\n",
    "sns.scatterplot(data=data, x='sepal_length', y='sepal_width', hue='species', s=50)"
   ]
  },
  {
   "cell_type": "markdown",
   "metadata": {
    "id": "ebszWTnbR7ib"
   },
   "source": [
    "**Data Insights**:\n",
    "*   Iris Setosa species has smaller sepal length but higher width.\n",
    "*   Versicolor lies in almost middle for length as well as width.\n",
    "*   Virginica has larger sepal lengths and smaller sepal widths.\n",
    "\n",
    "\n",
    "\n",
    "\n",
    "\n"
   ]
  },
  {
   "cell_type": "markdown",
   "metadata": {
    "id": "hLssFWvUSUSB"
   },
   "source": [
    "##### Comparison between various species based on petal length and width"
   ]
  },
  {
   "cell_type": "code",
   "execution_count": null,
   "metadata": {
    "colab": {
     "base_uri": "https://localhost:8080/",
     "height": 812
    },
    "id": "MygIrb8ZPoQc",
    "outputId": "9249bd6a-caab-467d-8b94-4de96b71461e"
   },
   "outputs": [],
   "source": [
    "plt.figure(figsize = (17,9))\n",
    "plt.title(\"Comparision between various species based on Sepal Length and Width.\")\n",
    "sns.scatterplot(data=data, x='petal_length', y='petal_width', hue='species', s=50)"
   ]
  },
  {
   "cell_type": "markdown",
   "metadata": {
    "id": "jezlExi-Suvy"
   },
   "source": [
    "**Data Insights**\n",
    "*   Setosa species have the smallest petal length as well as petal width\n",
    "*   Versicolor species have average petal length and petal width\n",
    "*   Virginica species have the highest petal length as well as petal width\n",
    "\n"
   ]
  },
  {
   "cell_type": "markdown",
   "metadata": {
    "id": "rN4Cpf0fTOBh"
   },
   "source": [
    "#### Checking the Mean, Median values of each Species and applying Box plot."
   ]
  },
  {
   "cell_type": "code",
   "execution_count": null,
   "metadata": {
    "colab": {
     "base_uri": "https://localhost:8080/",
     "height": 206
    },
    "id": "xLexTqF6SoLS",
    "outputId": "3ef0680e-6f0c-4822-c32a-2871978695d6"
   },
   "outputs": [],
   "source": [
    "data.groupby('species').agg([\"mean\",\"median\"])"
   ]
  },
  {
   "cell_type": "markdown",
   "metadata": {
    "id": "TGRreQg4T2tI"
   },
   "source": [
    "**Data insights:**\n",
    "\n",
    "\n",
    "*   The mean length of the sepal is highest for Iris-virginica followed by Iris-versicolor and then Iris-setosa.\n",
    "*   The mean width of the sepal is highest for Iris-setosa followed by Iris-virginica and then Iris-versicolor.\n",
    "*   The mean length of the petal is highest  highest for Iris-virginica followed by Iris-versicolor and then Iris-setosa.\n",
    "*   The mean width of the petal is highest  highest for Iris-virginica followed by Iris-versicolor and then Iris-setosa.\n",
    "\n",
    "\n",
    "\n",
    "\n"
   ]
  },
  {
   "cell_type": "markdown",
   "metadata": {
    "id": "eAZV8rCIVawy"
   },
   "source": [
    "#### Box plot to know about the distribution"
   ]
  },
  {
   "cell_type": "code",
   "execution_count": null,
   "metadata": {
    "colab": {
     "base_uri": "https://localhost:8080/",
     "height": 1000
    },
    "id": "zYOvd-CqTkm8",
    "outputId": "ea749e82-24ff-431a-faf2-a01ea8ef5d92"
   },
   "outputs": [],
   "source": [
    "\n",
    "fig, axes = plt.subplots(2,2,figsize =(16,9))\n",
    "sns.boxplot(data= data, x = 'species', y = 'petal_width', orient= 'v', ax= axes[0,0], palette='Set2')\n",
    "\n",
    "sns.boxplot(data= data, x = 'species', y = 'petal_length', orient= 'v', ax= axes[0,1], palette='Set2')\n",
    "\n",
    "sns.boxplot(data= data, x = 'species', y = 'sepal_width', orient= 'v', ax= axes[1,0],palette='Set2')\n",
    "\n",
    "sns.boxplot(data= data, x = 'species', y = 'sepal_length', orient= 'v', ax= axes[1,1],palette='Set2')\n",
    "plt.show()\n",
    "\n"
   ]
  },
  {
   "cell_type": "markdown",
   "metadata": {
    "id": "sFOHtDuDYcs1"
   },
   "source": [
    "**Data insights**:\n",
    "\n",
    "*   Setosa is having smaller feature and less distributed\n",
    "*   Versicolor is distributed in a average manner and average features\n",
    "\n",
    "*   Virginica is highly distributed with large no .of values and features\n",
    "*   Clearly the mean/ median values are being shown by each plots for various features(sepal length & width, petal length & width)\n",
    "\n",
    "\n",
    "\n",
    "\n",
    "\n",
    "\n",
    "\n"
   ]
  },
  {
   "cell_type": "markdown",
   "metadata": {
    "id": "lB9H1HcEZX-k"
   },
   "source": [
    "#### Plotting the Histogram & Probability Density Function (PDF)\n",
    "\n",
    "##### Here we are plotting the probability density function(PDF) with each feature as a variable on X-axis and it’s histogram and corresponding kernel density plot on Y-axis."
   ]
  },
  {
   "cell_type": "code",
   "execution_count": null,
   "metadata": {
    "colab": {
     "base_uri": "https://localhost:8080/",
     "height": 1713
    },
    "id": "Nkgor2I-WZsS",
    "outputId": "c902f10d-943c-4d71-95d7-d2774fcfc201"
   },
   "outputs": [],
   "source": [
    "import seaborn as sns\n",
    "import matplotlib.pyplot as plt\n",
    "\n",
    "# Features to plot and their corresponding titles\n",
    "features = [\"sepal_length\", \"sepal_width\", \"petal_length\", \"petal_width\"]\n",
    "titles = [\"Sepal Length Distribution\", \"Sepal Width Distribution\",\n",
    "          \"Petal Length Distribution\", \"Petal Width Distribution\"]\n",
    "\n",
    "# Create a FacetGridA for each feature\n",
    "for feature, title in zip(features, titles):\n",
    "    g = sns.FacetGrid(data, hue=\"species\", height=5)\n",
    "    g.map(sns.histplot, feature, kde=True)\n",
    "    g.add_legend()\n",
    "    g.set_titles(title)\n",
    "\n",
    "# Show the plot\n",
    "plt.show()\n"
   ]
  },
  {
   "cell_type": "markdown",
   "metadata": {
    "id": "ol7fW6jbcla4"
   },
   "source": [
    "**Data Insights:**\n",
    "\n",
    "\n",
    "*   Plot 1 shows that there is a significant amount of overlap between the species on sepal length, so it is not an effective Classification feature.\n",
    "\n",
    "*   Plot 2 shows that there is even higher overlap between the species on sepal width, so it is not an effective Classification feature\n",
    "\n",
    "*   Plot 3 shows that petal length is a good Classification feature as it clearly separates the species . The overlap is extremely less (between Versicolor and Virginica) , Setosa is well separated from the rest two.\n",
    "\n",
    "*   Just like Plot 3, Plot 4 also shows that petal width is a good Classification feature . The overlap is significantly less (between Versicolor and Virginica) , Setosa is well separated from the rest two\n",
    "\n",
    "#### Choosing Plot 3 (Classification feature as Petal Length)to distinguish among the species\n",
    "\n",
    "\n",
    "\n",
    "\n",
    "\n",
    "\n",
    "\n"
   ]
  },
  {
   "cell_type": "code",
   "execution_count": null,
   "metadata": {
    "colab": {
     "base_uri": "https://localhost:8080/",
     "height": 506
    },
    "id": "5hKr6BxfbBn6",
    "outputId": "d06750a0-25bc-4d3e-cd51-b03dce58fac3"
   },
   "outputs": [],
   "source": [
    "# Create a FacetGrid with the Iris dataset\n",
    "g = sns.FacetGrid(data, hue=\"species\", height=5)\n",
    "\n",
    "# Map a distribution plot onto the FacetGrid for the \"sepal_length\" column\n",
    "g.map(sns.histplot, \"petal_length\", kde = True)\n",
    "\n",
    "# Add a legend\n",
    "g.add_legend()\n",
    "\n",
    "# Show the plot\n",
    "plt.show()"
   ]
  },
  {
   "cell_type": "markdown",
   "metadata": {
    "id": "UuEZVDrpeSnl"
   },
   "source": [
    "***The pdf curve of Iris Setosa ends roughly at 2.1***\n",
    "\n",
    "**Data Insights:**\n",
    "\n",
    "\n",
    "\n",
    "*   The pdf curve of Iris Setosa ends roughly at 2.1\n",
    "\n",
    "*   If petal length < 2.1, then species is Iris Setosa.\n",
    "\n",
    "*   The point of intersection between pdf curves of Versicolor and Virginica is roughly at 4.8.\n",
    "\n",
    "\n",
    "*   If petal length > 2.1 and petal length < 4.8 then species is Iris Versicolor.\n",
    "\n",
    "*   If petal length > 4.8 then species is Iris Virginica.\n",
    "\n",
    "\n",
    "\n",
    "\n",
    "\n",
    "\n",
    "\n"
   ]
  },
  {
   "cell_type": "markdown",
   "metadata": {
    "id": "AFxUcAiAe8Uf"
   },
   "source": [
    "**CONCLUSION:**\n",
    "\n",
    "Through the utilization of diverse graphical techniques like Count Plot, Scatter Plot, Box Plot, and Histogram, we conducted a comprehensive exploration of the Iris dataset, uncovering valuable insights about its features and distributions. Count Plot provided an overview of species distribution, while Scatter Plot facilitated the examination of relationships between features. Box Plot enabled us to analyze feature distributions across species, identifying potential outliers and variations. Lastly, Histogram offered detailed insights into individual feature distributions, notably revealing distinct clusters in petal length distribution across species. From this analysis, it became evident that petal length could serve as a significant discriminative feature for classifying Iris species. This thorough exploration not only deepened our understanding of the dataset but also provided valuable insights for potential feature selection and modeling tasks."
   ]
  }
 ],
 "metadata": {
  "colab": {
   "provenance": []
  },
  "kernelspec": {
   "display_name": "Python 3 (ipykernel)",
   "language": "python",
   "name": "python3"
  },
  "language_info": {
   "codemirror_mode": {
    "name": "ipython",
    "version": 3
   },
   "file_extension": ".py",
   "mimetype": "text/x-python",
   "name": "python",
   "nbconvert_exporter": "python",
   "pygments_lexer": "ipython3",
   "version": "3.12.2"
  }
 },
 "nbformat": 4,
 "nbformat_minor": 4
}
