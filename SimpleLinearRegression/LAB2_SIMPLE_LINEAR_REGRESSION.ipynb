{
 "cells": [
  {
   "cell_type": "markdown",
   "metadata": {
    "id": "5LqLMrsRkoEl"
   },
   "source": [
    "# IMPLEMENTATION OF SIMPLE LINEAR REGRESSION"
   ]
  },
  {
   "cell_type": "markdown",
   "metadata": {
    "id": "ddPycuLil8PL"
   },
   "source": [
    "## SIMPLE LINEAR REGRESSION\n",
    "\n",
    "Statistical method that we can use to find a relationship between two variables and make predictions. The two variables used are typically denoted as y and x. The independent variable, or the variable used to predict the dependent variable is denoted as x. The dependent variable, or the outcome/output, is denoted as y."
   ]
  },
  {
   "cell_type": "markdown",
   "metadata": {
    "id": "HPd5NYEyxKOs"
   },
   "source": [
    "**PROBLEM STATEMENT**\n",
    "\n",
    "\n",
    "Analysing the relationship between 'TV advertising' and 'sales' using a simple linear regression model."
   ]
  },
  {
   "cell_type": "code",
   "execution_count": 1,
   "metadata": {
    "id": "G02oyuzcl6Nv"
   },
   "outputs": [
    {
     "name": "stderr",
     "output_type": "stream",
     "text": [
      "The syntax of the command is incorrect.\n",
      "'cp' is not recognized as an internal or external command,\n",
      "operable program or batch file.\n"
     ]
    }
   ],
   "source": [
    "#Setting up the Kaggle API credentials\n",
    "!mkdir -p ~/.kaggle\n",
    "!cp kaggle.json ~/.kaggle/"
   ]
  },
  {
   "cell_type": "code",
   "execution_count": 2,
   "metadata": {
    "colab": {
     "base_uri": "https://localhost:8080/"
    },
    "id": "PdHcYwhzqFhU",
    "outputId": "a7202ef3-6894-429c-8e0d-5c2e6ea6f532"
   },
   "outputs": [
    {
     "name": "stderr",
     "output_type": "stream",
     "text": [
      "'kaggle' is not recognized as an internal or external command,\n",
      "operable program or batch file.\n"
     ]
    }
   ],
   "source": [
    "!kaggle datasets download -d ashydv/advertising-dataset"
   ]
  },
  {
   "cell_type": "code",
   "execution_count": 3,
   "metadata": {
    "id": "ihxCS9fMqI-z"
   },
   "outputs": [
    {
     "ename": "FileNotFoundError",
     "evalue": "[Errno 2] No such file or directory: '/content/advertising-dataset.zip'",
     "output_type": "error",
     "traceback": [
      "\u001b[1;31m---------------------------------------------------------------------------\u001b[0m",
      "\u001b[1;31mFileNotFoundError\u001b[0m                         Traceback (most recent call last)",
      "Cell \u001b[1;32mIn[3], line 3\u001b[0m\n\u001b[0;32m      1\u001b[0m \u001b[38;5;66;03m# Unzipping the zipped dataset file\u001b[39;00m\n\u001b[0;32m      2\u001b[0m \u001b[38;5;28;01mimport\u001b[39;00m \u001b[38;5;21;01mzipfile\u001b[39;00m\n\u001b[1;32m----> 3\u001b[0m zip_ref \u001b[38;5;241m=\u001b[39m \u001b[43mzipfile\u001b[49m\u001b[38;5;241;43m.\u001b[39;49m\u001b[43mZipFile\u001b[49m\u001b[43m(\u001b[49m\u001b[38;5;124;43m'\u001b[39;49m\u001b[38;5;124;43m/content/advertising-dataset.zip\u001b[39;49m\u001b[38;5;124;43m'\u001b[39;49m\u001b[43m)\u001b[49m\n\u001b[0;32m      4\u001b[0m zip_ref\u001b[38;5;241m.\u001b[39mextractall(\u001b[38;5;124m'\u001b[39m\u001b[38;5;124m/content\u001b[39m\u001b[38;5;124m'\u001b[39m)\n\u001b[0;32m      5\u001b[0m zip_ref\u001b[38;5;241m.\u001b[39mclose()\n",
      "File \u001b[1;32m~\\AppData\\Local\\Programs\\Python\\Python312\\Lib\\zipfile\\__init__.py:1323\u001b[0m, in \u001b[0;36mZipFile.__init__\u001b[1;34m(self, file, mode, compression, allowZip64, compresslevel, strict_timestamps, metadata_encoding)\u001b[0m\n\u001b[0;32m   1321\u001b[0m \u001b[38;5;28;01mwhile\u001b[39;00m \u001b[38;5;28;01mTrue\u001b[39;00m:\n\u001b[0;32m   1322\u001b[0m     \u001b[38;5;28;01mtry\u001b[39;00m:\n\u001b[1;32m-> 1323\u001b[0m         \u001b[38;5;28mself\u001b[39m\u001b[38;5;241m.\u001b[39mfp \u001b[38;5;241m=\u001b[39m \u001b[43mio\u001b[49m\u001b[38;5;241;43m.\u001b[39;49m\u001b[43mopen\u001b[49m\u001b[43m(\u001b[49m\u001b[43mfile\u001b[49m\u001b[43m,\u001b[49m\u001b[43m \u001b[49m\u001b[43mfilemode\u001b[49m\u001b[43m)\u001b[49m\n\u001b[0;32m   1324\u001b[0m     \u001b[38;5;28;01mexcept\u001b[39;00m \u001b[38;5;167;01mOSError\u001b[39;00m:\n\u001b[0;32m   1325\u001b[0m         \u001b[38;5;28;01mif\u001b[39;00m filemode \u001b[38;5;129;01min\u001b[39;00m modeDict:\n",
      "\u001b[1;31mFileNotFoundError\u001b[0m: [Errno 2] No such file or directory: '/content/advertising-dataset.zip'"
     ]
    }
   ],
   "source": [
    "# Unzipping the zipped dataset file\n",
    "import zipfile\n",
    "zip_ref = zipfile.ZipFile('/content/advertising-dataset.zip')\n",
    "zip_ref.extractall('/content')\n",
    "zip_ref.close()"
   ]
  },
  {
   "cell_type": "code",
   "execution_count": null,
   "metadata": {
    "id": "DCqNS4y0wpyT"
   },
   "outputs": [],
   "source": [
    "# Importing the Libraries\n",
    "import pandas as pd\n",
    "import seaborn as sns\n",
    "import matplotlib.pyplot as plt\n",
    "from sklearn.model_selection import train_test_split"
   ]
  },
  {
   "cell_type": "code",
   "execution_count": null,
   "metadata": {
    "colab": {
     "base_uri": "https://localhost:8080/",
     "height": 206
    },
    "id": "g-Ts4NP-qreP",
    "outputId": "9dfa0330-3093-4c65-890c-e78e4bd4a5bd"
   },
   "outputs": [],
   "source": [
    "# Loading the dataset\n",
    "df = pd.read_csv('advertising.csv')\n",
    "df.head()"
   ]
  },
  {
   "cell_type": "markdown",
   "metadata": {
    "id": "upgoDvpRylbv"
   },
   "source": [
    "**Understanding the Data**\n"
   ]
  },
  {
   "cell_type": "code",
   "execution_count": null,
   "metadata": {
    "colab": {
     "base_uri": "https://localhost:8080/"
    },
    "id": "xxkLoFk4wnxa",
    "outputId": "bca81910-e5be-4d4d-d694-0ef6cb270834"
   },
   "outputs": [],
   "source": [
    "df.shape"
   ]
  },
  {
   "cell_type": "markdown",
   "metadata": {
    "id": "NWW5QJWSys2r"
   },
   "source": [
    "**Data Insights**\n",
    "\n",
    "Our data has 200 rows and 4 columns."
   ]
  },
  {
   "cell_type": "code",
   "execution_count": null,
   "metadata": {
    "colab": {
     "base_uri": "https://localhost:8080/"
    },
    "id": "kmm970Ohyy24",
    "outputId": "c2532d2d-15e1-4d18-e233-0d8dc05c7dad"
   },
   "outputs": [],
   "source": [
    "df.info()"
   ]
  },
  {
   "cell_type": "markdown",
   "metadata": {
    "id": "1JBDSpZzy9-B"
   },
   "source": [
    "**Data Insights**\n",
    "\n",
    "\n",
    "*   All columns are not having any Null Entries\n",
    "\n",
    "*   All the columns are of numerical type.\n",
    "\n"
   ]
  },
  {
   "cell_type": "code",
   "execution_count": null,
   "metadata": {
    "colab": {
     "base_uri": "https://localhost:8080/",
     "height": 300
    },
    "id": "phYooVNeyrbe",
    "outputId": "164da2a5-f21b-4a94-f464-ea6aa3ceca08"
   },
   "outputs": [],
   "source": [
    "df.describe()"
   ]
  },
  {
   "cell_type": "markdown",
   "metadata": {
    "id": "ycOjMcmPzVgb"
   },
   "source": [
    "**Data Insights**\n",
    "* Mean values\n",
    "* Standard Deviation\n",
    "* Minimum Values\n",
    "* Maximum Values"
   ]
  },
  {
   "cell_type": "markdown",
   "metadata": {
    "id": "LZYJQDgBzjKL"
   },
   "source": [
    "## Data Cleaning"
   ]
  },
  {
   "cell_type": "markdown",
   "metadata": {
    "id": "KY_ELcDmznMB"
   },
   "source": [
    "### Checking for Null Values"
   ]
  },
  {
   "cell_type": "code",
   "execution_count": null,
   "metadata": {
    "colab": {
     "base_uri": "https://localhost:8080/"
    },
    "id": "sxLP9mCjzS9l",
    "outputId": "6a7d7c74-022b-4eee-e5a0-82a4642619fb"
   },
   "outputs": [],
   "source": [
    "data.isnull().sum()"
   ]
  },
  {
   "cell_type": "markdown",
   "metadata": {
    "id": "95Vr2DePzw-c"
   },
   "source": [
    "Data Insights\n",
    "* As stated earlier there are no null values in our dataset."
   ]
  },
  {
   "cell_type": "markdown",
   "metadata": {
    "id": "teEqlL96z8EL"
   },
   "source": [
    "### Outlier Analysis"
   ]
  },
  {
   "cell_type": "code",
   "execution_count": null,
   "metadata": {
    "colab": {
     "base_uri": "https://localhost:8080/",
     "height": 872
    },
    "id": "R-TBi-WBzvoB",
    "outputId": "27911464-d2d9-4a25-daf8-8d709dc77e70"
   },
   "outputs": [],
   "source": [
    "fig, axes = plt.subplots(3,figsize =(5,5))\n",
    "sns.set(font_scale=.8)\n",
    "sns.boxplot(data= data, x = 'TV',orient= 'v', ax= axes[0], palette='Set2')\n",
    "\n",
    "sns.boxplot(data= data, x = 'Radio', orient= 'v', ax= axes[1], palette='Set2')\n",
    "\n",
    "sns.boxplot(data= data, x = 'Newspaper', orient= 'v', ax= axes[2],palette='Set2')\n",
    "\n",
    "plt.tight_layout()\n",
    "plt.show()"
   ]
  },
  {
   "cell_type": "markdown",
   "metadata": {
    "id": "GaIL4uML2JSF"
   },
   "source": [
    "Data Insights:\n",
    "* TV Budget is distributed largely.\n",
    "* Radio Budget is also largely distributed.\n",
    "* Newpaper budget is not distributed much compared to TV and Radio."
   ]
  },
  {
   "cell_type": "code",
   "execution_count": null,
   "metadata": {
    "colab": {
     "base_uri": "https://localhost:8080/",
     "height": 590
    },
    "id": "lIjWcSWpzt4b",
    "outputId": "177af204-9d4c-4cf1-c2b4-a637ff903689"
   },
   "outputs": [],
   "source": [
    "sns.boxplot(data= data, x = 'Sales',orient= 'v', palette='Set2', legend=False)\n",
    "plt.title('Box Plot of Sales')\n",
    "plt.show()"
   ]
  },
  {
   "cell_type": "markdown",
   "metadata": {
    "id": "IAKV7VMP3uxJ"
   },
   "source": [
    "### UNIVARIATE ANALYSIS USING HISTOGRAM"
   ]
  },
  {
   "cell_type": "code",
   "execution_count": null,
   "metadata": {
    "colab": {
     "base_uri": "https://localhost:8080/",
     "height": 810
    },
    "id": "fxJqO-mP2xqR",
    "outputId": "4fc81ef3-c0ca-4aaa-bb88-a1efd2c354d0"
   },
   "outputs": [],
   "source": [
    "plt.figure(figsize = (17,9))\n",
    "plt.title(\"Comparision of how the budget of TV, Radio and Newspaper are related with the Sales.\")\n",
    "sns.scatterplot(data=data, x='TV', y='Sales')"
   ]
  },
  {
   "cell_type": "markdown",
   "metadata": {
    "id": "TrdSQh7x5BdQ"
   },
   "source": [
    "#### Pairplot"
   ]
  },
  {
   "cell_type": "code",
   "execution_count": null,
   "metadata": {
    "colab": {
     "base_uri": "https://localhost:8080/",
     "height": 415
    },
    "id": "nyMooRdM4W9I",
    "outputId": "84327dfd-47fc-4952-959c-131ab35ca0e6"
   },
   "outputs": [],
   "source": [
    "sns.pairplot(data, x_vars=['TV', 'Newspaper', 'Radio'], y_vars='Sales', height=4, aspect=1, kind='scatter')\n",
    "plt.show()"
   ]
  },
  {
   "cell_type": "markdown",
   "metadata": {
    "id": "VS-EmvBjhldz"
   },
   "source": [
    "### UNIVARIATE ANALYSIS USING HISTOGRAM"
   ]
  },
  {
   "cell_type": "code",
   "execution_count": null,
   "metadata": {
    "colab": {
     "base_uri": "https://localhost:8080/",
     "height": 916
    },
    "id": "icRV7foLhsmB",
    "outputId": "84bc2144-e5e2-4b3e-fa4c-a173468f2d60"
   },
   "outputs": [],
   "source": [
    "sns.set(rc={'figure.figsize':(11.7,8.27)})\n",
    "sns.distplot(data['Sales'], bins=30)\n",
    "plt.show()"
   ]
  },
  {
   "cell_type": "markdown",
   "metadata": {
    "id": "o_ltB7GziwTh"
   },
   "source": [
    "**Data Insights**\n",
    "* Here we can see the distribution of the sales column. The values in the sales column s normally distributed."
   ]
  },
  {
   "cell_type": "markdown",
   "metadata": {
    "id": "PLGEnrHG7uBN"
   },
   "source": [
    "CHECKING CORRELATION\n"
   ]
  },
  {
   "cell_type": "code",
   "execution_count": null,
   "metadata": {
    "colab": {
     "base_uri": "https://localhost:8080/",
     "height": 437
    },
    "id": "YOGjvwSI7n8V",
    "outputId": "c5075927-99aa-4227-965d-c823ddb189e0"
   },
   "outputs": [],
   "source": [
    "sns.heatmap(data.corr(), cmap=\"YlGnBu\", annot = True)\n",
    "plt.show()"
   ]
  },
  {
   "cell_type": "markdown",
   "metadata": {
    "id": "T6cbaMgK8P7Y"
   },
   "source": [
    "Data Insights:\n",
    "* TV can be considered as a feature variable as it is strongly correlated to the Sales Column compared to Radio and Newspaper."
   ]
  },
  {
   "cell_type": "markdown",
   "metadata": {
    "id": "67WfbC5d8h34"
   },
   "source": [
    "## MODEL BUILDING"
   ]
  },
  {
   "cell_type": "markdown",
   "metadata": {
    "id": "B8vOBS2G9PW5"
   },
   "source": [
    "**PERFORMING SIMPLE LINEAR REGRESSION**\n",
    "\n",
    "We have,\n",
    "\n",
    "    y = m*x + c\n",
    "\n",
    "* x is the independent variable(TV)\n",
    "* y is the dependent variable(Sales)\n",
    "Therefore we can write,\n",
    "\n",
    "\n",
    "    Sales = m*TV + c\n",
    "\n",
    "* m is the model coefficent."
   ]
  },
  {
   "cell_type": "markdown",
   "metadata": {
    "id": "jwnadMtFMzYc"
   },
   "source": [
    "### Preparing X and Y\n",
    "\n",
    "* The scikit-learn library expects X (feature variable) and y (response variable) to be NumPy arrays.\n",
    "* However, X can be a dataframe as Pandas is built over NumPy."
   ]
  },
  {
   "cell_type": "code",
   "execution_count": null,
   "metadata": {
    "colab": {
     "base_uri": "https://localhost:8080/"
    },
    "id": "uV0c3Es67zm0",
    "outputId": "7e53fb8b-27b5-4e61-a569-5548f6368292"
   },
   "outputs": [],
   "source": [
    "X = data['TV']\n",
    "X.head()"
   ]
  },
  {
   "cell_type": "code",
   "execution_count": null,
   "metadata": {
    "colab": {
     "base_uri": "https://localhost:8080/"
    },
    "id": "5LjpLdZnNHTa",
    "outputId": "8cdc1786-6eb2-4f28-8184-07ce783276c8"
   },
   "outputs": [],
   "source": [
    "y = data['Sales']\n",
    "y.head()"
   ]
  },
  {
   "cell_type": "markdown",
   "metadata": {
    "id": "bRDp3K3-NdL_"
   },
   "source": [
    "### Splitting Data into Training and Testing Sets"
   ]
  },
  {
   "cell_type": "code",
   "execution_count": null,
   "metadata": {
    "id": "irS8zukGNaTk"
   },
   "outputs": [],
   "source": [
    "from sklearn.model_selection import train_test_split\n",
    "X_train, X_test, y_train, y_test = train_test_split(X, y, train_size=0.75 , random_state=0000)"
   ]
  },
  {
   "cell_type": "code",
   "execution_count": null,
   "metadata": {
    "colab": {
     "base_uri": "https://localhost:8080/"
    },
    "id": "yHv2qJA5NudO",
    "outputId": "4b6b0837-b477-434a-d92d-d66c6a6f1db5"
   },
   "outputs": [],
   "source": [
    "print(type(X_train))\n",
    "print(type(X_test))\n",
    "print(type(y_train))\n",
    "print(type(y_test))"
   ]
  },
  {
   "cell_type": "markdown",
   "metadata": {
    "id": "f2Rs6l0hNzMS"
   },
   "source": [
    "Data Insights\n",
    "* The generated training and testing data is Series."
   ]
  },
  {
   "cell_type": "code",
   "execution_count": null,
   "metadata": {
    "colab": {
     "base_uri": "https://localhost:8080/"
    },
    "id": "OM0pqa72NyJ1",
    "outputId": "3147d0dd-8707-42eb-ded5-c089dcdb2eed"
   },
   "outputs": [],
   "source": [
    "print(X_train.shape)\n",
    "print(y_train.shape)\n",
    "print(X_test.shape)\n",
    "print(y_test.shape)"
   ]
  },
  {
   "cell_type": "markdown",
   "metadata": {
    "id": "-Jz5-g7yOJTh"
   },
   "source": [
    "Data Insights:\n",
    "* The training data for TV and Sales has 150 observations.\n",
    "* The testing data for TV and sales has 50 observations."
   ]
  },
  {
   "cell_type": "code",
   "execution_count": null,
   "metadata": {
    "colab": {
     "base_uri": "https://localhost:8080/"
    },
    "id": "nSHDnJ0POFXv",
    "outputId": "e3c358e1-5208-425b-e0ab-e2b085895bda"
   },
   "outputs": [],
   "source": [
    "X_train"
   ]
  },
  {
   "cell_type": "code",
   "execution_count": null,
   "metadata": {
    "colab": {
     "base_uri": "https://localhost:8080/"
    },
    "id": "DNku1JopOk3v",
    "outputId": "9c1390da-398f-4d7f-de7f-2a46559cc914"
   },
   "outputs": [],
   "source": [
    "import numpy as np\n",
    "X_train = X_train[:, np.newaxis]\n",
    "X_test = X_test[:, np.newaxis]"
   ]
  },
  {
   "cell_type": "markdown",
   "metadata": {
    "id": "hfNgOJtkP89R"
   },
   "source": [
    "Here we transform  input data in the form of a 2D array where each row represents a sample and each column represents a feature. Because as we are dealing only with one feature, we make the input(Independent varialbe) into a 2D array which is a general convention in scikit-learn library.\n"
   ]
  },
  {
   "cell_type": "markdown",
   "metadata": {
    "id": "Ko1Ul066P76t"
   },
   "source": []
  },
  {
   "cell_type": "code",
   "execution_count": null,
   "metadata": {
    "colab": {
     "base_uri": "https://localhost:8080/"
    },
    "id": "6VYjDUG-PS4b",
    "outputId": "f391d2aa-0b7f-47c6-ce03-8014fb1a9605"
   },
   "outputs": [],
   "source": [
    "print(X_train.shape)\n",
    "print(y_train.shape)\n",
    "print(X_test.shape)\n",
    "print(y_test.shape)"
   ]
  },
  {
   "cell_type": "code",
   "execution_count": null,
   "metadata": {
    "colab": {
     "base_uri": "https://localhost:8080/"
    },
    "id": "-cWCldqsPZ3C",
    "outputId": "8bc6ea51-4281-4bb3-a668-2e95d0061a34"
   },
   "outputs": [],
   "source": [
    "print(type(X_train))\n",
    "print(type(X_test))\n",
    "print(type(y_train))\n",
    "print(type(y_test))"
   ]
  },
  {
   "cell_type": "markdown",
   "metadata": {
    "id": "W136eM5dQlHC"
   },
   "source": [
    "Data Insights:\n",
    "* Here the X_train has become an Array of 150 rows and 1 fearure column whereas X_test has 50 rows with 1 feature variable.\n",
    "* y_train and y_test is one dimentional array of 50 elements which represent the target variable Salesassociated with the X_traina and X_test."
   ]
  },
  {
   "cell_type": "markdown",
   "metadata": {
    "id": "cq-sTdLuSj8q"
   },
   "source": [
    "### Performing Linear Regression"
   ]
  },
  {
   "cell_type": "code",
   "execution_count": null,
   "metadata": {
    "colab": {
     "base_uri": "https://localhost:8080/",
     "height": 74
    },
    "id": "2vYTHWi9QNOi",
    "outputId": "c0aa7270-d6ce-40e5-a1b3-6543074cc9f7"
   },
   "outputs": [],
   "source": [
    "# importing LinearRegression from sklearn\n",
    "from sklearn.linear_model import LinearRegression\n",
    "\n",
    "# Representing LinearRegression as lr(Creating LinearRegression Object)\n",
    "lr = LinearRegression()\n",
    "\n",
    "# Fit the model using lr.fit()\n",
    "lr.fit(X_train, y_train)"
   ]
  },
  {
   "cell_type": "code",
   "execution_count": null,
   "metadata": {
    "colab": {
     "base_uri": "https://localhost:8080/"
    },
    "id": "2kamnjk1YW4b",
    "outputId": "f3e33ca1-ff78-481b-cf5f-25130bd671a9"
   },
   "outputs": [],
   "source": [
    "lr.score(X_train, y_train)"
   ]
  },
  {
   "cell_type": "markdown",
   "metadata": {
    "id": "mry68ftQSz6O"
   },
   "source": [
    "Calculating the Coeffiecents of the Simple Linear Regression Model"
   ]
  },
  {
   "cell_type": "code",
   "execution_count": null,
   "metadata": {
    "colab": {
     "base_uri": "https://localhost:8080/"
    },
    "id": "HMwai1b0Sufi",
    "outputId": "d2f8c6c3-b368-4cb7-a755-1363789bd326"
   },
   "outputs": [],
   "source": [
    "print(\"The Intercept is\", lr.intercept_)\n",
    "print(\"The Slope of the regression equation is \",lr.coef_)"
   ]
  },
  {
   "cell_type": "markdown",
   "metadata": {
    "id": "sIKK9WgcTLTw"
   },
   "source": [
    "Therefore the simple linear regression equation can be represented as,\n",
    "\n",
    "\n",
    "      y = 7.13 * (0.055*TV)"
   ]
  },
  {
   "cell_type": "markdown",
   "metadata": {
    "id": "AkIiBEwFTfe4"
   },
   "source": [
    "Predictions"
   ]
  },
  {
   "cell_type": "code",
   "execution_count": null,
   "metadata": {
    "id": "2G4nUCnhTImW"
   },
   "outputs": [],
   "source": [
    "# Making predictions on the testing set which returns an ndarray\n",
    "y_pred = lr.predict(X_test)"
   ]
  },
  {
   "cell_type": "code",
   "execution_count": null,
   "metadata": {
    "colab": {
     "base_uri": "https://localhost:8080/"
    },
    "id": "pNW5IbVZVWyY",
    "outputId": "e5ff3fe8-1a3f-4169-a12f-bdaca9ea54c5"
   },
   "outputs": [],
   "source": [
    "y_pred.shape"
   ]
  },
  {
   "cell_type": "code",
   "execution_count": null,
   "metadata": {
    "colab": {
     "base_uri": "https://localhost:8080/"
    },
    "id": "jKI3ffzRVWu-",
    "outputId": "0d59f463-ccab-40a4-faf1-52031e3d887b"
   },
   "outputs": [],
   "source": [
    "y_test.shape"
   ]
  },
  {
   "cell_type": "markdown",
   "metadata": {
    "id": "iKuy0MbLU7E_"
   },
   "source": [
    "**COMPUTING RMSE and R2 SCORE**\n",
    "\n",
    "**RMSE**\n",
    "* Root Mean Square Error (RMSE) is a standard way to measure the error of a model in predicting quantitative data.\n",
    "\n",
    "*  The measure of how well a regression line fits the data points.\n",
    "\n",
    "* It is the  the standard deviation of the errors which occur when a prediction is made on a dataset.\n",
    "\n",
    "\n",
    "\n",
    "\n"
   ]
  },
  {
   "cell_type": "code",
   "execution_count": null,
   "metadata": {
    "colab": {
     "base_uri": "https://localhost:8080/",
     "height": 527
    },
    "id": "zcsfY9rPUp3q",
    "outputId": "dfd53799-fd9a-4a9e-de32-80d32b8ae43b"
   },
   "outputs": [],
   "source": [
    "# Actual vs Predicted\n",
    "import matplotlib.pyplot as plt\n",
    "c = [i for i in range(1,51,1)]         # generating index\n",
    "fig = plt.figure()\n",
    "plt.plot(c,y_test, color=\"blue\", linewidth=2, linestyle=\"-\", label=\"Actual\")\n",
    "plt.plot(c,y_pred, color=\"red\",  linewidth=2, linestyle=\"-\", label=\"Predicted\")\n",
    "fig.suptitle('Actual and Predicted', fontsize=20)              # Plot heading\n",
    "plt.xlabel('Index', fontsize=18)                               # X-label\n",
    "plt.ylabel('Sales', fontsize=16)\n",
    "plt.legend()"
   ]
  },
  {
   "cell_type": "markdown",
   "metadata": {
    "id": "oNFH_0n6Yoax"
   },
   "source": [
    "**Data Insights**:\n",
    "\n",
    "From the plot we can infer that there is not much deviation in the actual and predicted values."
   ]
  },
  {
   "cell_type": "markdown",
   "metadata": {
    "id": "4Ga4f1fwZEmf"
   },
   "source": [
    "Plotting the Error"
   ]
  },
  {
   "cell_type": "code",
   "execution_count": null,
   "metadata": {
    "colab": {
     "base_uri": "https://localhost:8080/",
     "height": 527
    },
    "id": "OmZsMz8UWMpR",
    "outputId": "68c9ca62-f670-48cc-fb64-8d05d5f2698c"
   },
   "outputs": [],
   "source": [
    "# Error terms\n",
    "c = [i for i in range(1,51,1)]\n",
    "fig = plt.figure()\n",
    "plt.plot(c,y_test-y_pred, color=\"blue\", linewidth=2, linestyle=\"-\")\n",
    "fig.suptitle('Error Terms', fontsize=20)              # Plot heading\n",
    "plt.xlabel('Index', fontsize=18)                      # X-label\n",
    "plt.ylabel('ytest-ypred', fontsize=16)"
   ]
  },
  {
   "cell_type": "markdown",
   "metadata": {
    "id": "9RdTfSuiZPOP"
   },
   "source": [
    "Data Insights:\n",
    "This plot helps us to infer that difference between actual and predicted values.\n",
    "In the plot most of the error values are in the range of -2 to 2 and a few are too low and too high. So the model should work accurate as expected."
   ]
  },
  {
   "cell_type": "markdown",
   "metadata": {},
   "source": [
    "### Model Evaluation"
   ]
  },
  {
   "cell_type": "code",
   "execution_count": null,
   "metadata": {
    "colab": {
     "base_uri": "https://localhost:8080/"
    },
    "id": "tHbV85t1ZK0H",
    "outputId": "1fa63e9f-c169-4022-b991-d4e85db3a912"
   },
   "outputs": [],
   "source": [
    "from sklearn.metrics import mean_squared_error, r2_score\n",
    "mse = mean_squared_error(y_test, y_pred)\n",
    "print('Mean_Squared_Error :' ,mse)"
   ]
  },
  {
   "cell_type": "markdown",
   "metadata": {
    "id": "HDVAj5VgdGmg"
   },
   "source": []
  },
  {
   "cell_type": "code",
   "execution_count": null,
   "metadata": {
    "colab": {
     "base_uri": "https://localhost:8080/"
    },
    "id": "XNmYGG74aRT-",
    "outputId": "cc955c71-475c-46c0-b4be-2b9ffe7d4d64"
   },
   "outputs": [],
   "source": [
    "rmse = np.sqrt(mse)\n",
    "print('Root_Mean_Squared_Error :' ,rmse)"
   ]
  },
  {
   "cell_type": "markdown",
   "metadata": {
    "id": "u3JzslZudHhM"
   },
   "source": [
    "The RMSE value is obtained to be 2.45 which suggests that, on average, our model's predictions are off by approximately 2.45 units of the target variable. Hence we can say that the model performance is performing well in predicting the Sales."
   ]
  },
  {
   "cell_type": "code",
   "execution_count": null,
   "metadata": {
    "colab": {
     "base_uri": "https://localhost:8080/"
    },
    "id": "f1jgnD20dxYV",
    "outputId": "713db9b3-01dc-4c41-9692-7fbdc5a753b8"
   },
   "outputs": [],
   "source": [
    "# Assuming you have calculated the RMSE value and determined the range of 'Sales'\n",
    "RMSE = 2.451544497150294  # Example RMSE value\n",
    "sales_range = max(y_test) - min(y_test)  # Example range of 'Sales' variable\n",
    "\n",
    "# Calculate the ratio of RMSE to the range of 'Sales'\n",
    "RMSE_to_sales_range_ratio = RMSE / sales_range\n",
    "\n",
    "# Print the ratio for comparison\n",
    "print(\"RMSE-to-Sales-Range Ratio:\", RMSE_to_sales_range_ratio)\n"
   ]
  },
  {
   "cell_type": "markdown",
   "metadata": {
    "id": "Hh1AE5NFd2yN"
   },
   "source": [
    "Since the ratio is almost 0.1, the ratio can be considered as small and the model has good predictive accuracy."
   ]
  },
  {
   "cell_type": "markdown",
   "metadata": {
    "id": "hQAqKgj4eRjW"
   },
   "source": [
    "## Inference from the R2 Score\n"
   ]
  },
  {
   "cell_type": "code",
   "execution_count": null,
   "metadata": {
    "colab": {
     "base_uri": "https://localhost:8080/"
    },
    "id": "AZ8VS-2LemnI",
    "outputId": "95148357-67b1-4b74-8413-c234be6976b2"
   },
   "outputs": [],
   "source": [
    "from sklearn.metrics import r2_score\n",
    "r_squared = r2_score(y_test, y_pred)\n",
    "print('R2 Score :',r_squared)"
   ]
  },
  {
   "cell_type": "markdown",
   "metadata": {
    "id": "GdP1ss3OfLrD"
   },
   "source": [
    "### R2 Score\n",
    "\n",
    " * Measure of how well the independent variables explain the variability of the dependent variable.\n",
    "\n",
    " * A higher R2 score indicates a better fit of the model to the data.\n",
    "\n",
    " * It ranges from 0 to 1.\n",
    "\n",
    " * 0 indicates that the model does not explain any of the variability in the target variable.\n",
    " * 1 indicates that the model perfectly explains all the variability in the target variable.\n",
    "\n",
    " * In our  case, an R2 score of 0.8053611644334993 suggests that approximately 80.54% of the variance in 'Sales' is explained by the independent variables in your model.\n",
    "\n",
    "\n",
    "\n"
   ]
  },
  {
   "cell_type": "markdown",
   "metadata": {
    "id": "pr_VNswKeKb4"
   },
   "source": [
    "## Plotting the Regression Line"
   ]
  },
  {
   "cell_type": "code",
   "execution_count": null,
   "metadata": {
    "colab": {
     "base_uri": "https://localhost:8080/",
     "height": 469
    },
    "id": "CVg0PzJ_a3yt",
    "outputId": "db702c6c-93c7-4653-8f43-17920c2e4732"
   },
   "outputs": [],
   "source": [
    "plt.plot(X_test,y_pred, color='red')\n",
    "plt.scatter(data['TV'],data['Sales'])\n",
    "plt.title('Tv vs Sales')\n",
    "plt.xlabel(\"TV\")\n",
    "plt.ylabel('Sales ')\n",
    "plt.show()"
   ]
  },
  {
   "cell_type": "markdown",
   "metadata": {
    "id": "ujuNfByijBrG"
   },
   "source": [
    "**CONCLUSION**\n",
    "\n",
    "In this lab, we conducted a simple linear regression analysis to model the relationship between the predictor variable (TV advertising expenditure) and the target variable (sales). Our analysis resulted in the development of a linear regression model with a Root Mean Squared Error (RMSE) of 2.45 and an R-squared (R2) score of 0.81. Based on these results, we have successfully fitted the model using the regression line, which provides valuable insights into the relationship between TV advertising expenditure and sales."
   ]
  },
  {
   "cell_type": "code",
   "execution_count": null,
   "metadata": {
    "id": "gvtxycmQb-dM"
   },
   "outputs": [],
   "source": []
  }
 ],
 "metadata": {
  "accelerator": "GPU",
  "colab": {
   "gpuType": "T4",
   "provenance": []
  },
  "kernelspec": {
   "display_name": "Python 3 (ipykernel)",
   "language": "python",
   "name": "python3"
  },
  "language_info": {
   "codemirror_mode": {
    "name": "ipython",
    "version": 3
   },
   "file_extension": ".py",
   "mimetype": "text/x-python",
   "name": "python",
   "nbconvert_exporter": "python",
   "pygments_lexer": "ipython3",
   "version": "3.12.2"
  }
 },
 "nbformat": 4,
 "nbformat_minor": 4
}
