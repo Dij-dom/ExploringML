{
 "cells": [
  {
   "cell_type": "markdown",
   "id": "e7447e87-84ab-4fe0-ab73-b9799d1bbb1f",
   "metadata": {},
   "source": [
    "## DEMONSTRATING THE EFFECT OF DIMENSIONALITY REDUCTION IN TWO DATASETS \n",
    " - DATASET 1: Contains only numerical features.\n",
    " - DATASET 2: Contains a mixture od both numerical and categorical features."
   ]
  },
  {
   "cell_type": "markdown",
   "id": "a62e1551-963d-430a-9b97-5870ebc1c073",
   "metadata": {},
   "source": [
    "### DATASET 1: WISCONSIN BREAST CANCER DATASET"
   ]
  },
  {
   "cell_type": "code",
   "execution_count": 34,
   "id": "dc51da79-c69d-49ee-815f-fd7c4d1bacfd",
   "metadata": {},
   "outputs": [],
   "source": [
    "import pandas as pd\n",
    "from sklearn.datasets import load_breast_cancer\n",
    "from sklearn.model_selection import train_test_split\n",
    "from sklearn.preprocessing import StandardScaler\n",
    "from sklearn.decomposition import PCA\n",
    "from sklearn.linear_model import LogisticRegression\n",
    "from sklearn.discriminant_analysis import LinearDiscriminantAnalysis\n",
    "from sklearn.metrics import accuracy_score, confusion_matrix, classification_report"
   ]
  },
  {
   "cell_type": "code",
   "execution_count": 35,
   "id": "bd71f557-5059-4f0c-becc-50ece53218d2",
   "metadata": {},
   "outputs": [],
   "source": [
    "# Step 1: Load and preprocess the breast cancer dataset\n",
    "data = load_breast_cancer()\n",
    "X = data.data\n",
    "y = data.target"
   ]
  },
  {
   "cell_type": "code",
   "execution_count": 36,
   "id": "f81d0de7-ffc9-4dc1-964d-377b8443e106",
   "metadata": {},
   "outputs": [],
   "source": [
    "# Splitting the dataset into training and testing sets\n",
    "X_train, X_test, y_train, y_test = train_test_split(X, y, test_size=0.2, random_state=42)"
   ]
  },
  {
   "cell_type": "code",
   "execution_count": 37,
   "id": "97091ac2-a379-40ea-a35d-73ecf90981ec",
   "metadata": {},
   "outputs": [],
   "source": [
    "# Standardize the features\n",
    "scaler = StandardScaler()\n",
    "X_train_scaled = scaler.fit_transform(X_train)\n",
    "X_test_scaled = scaler.transform(X_test)"
   ]
  },
  {
   "cell_type": "code",
   "execution_count": 38,
   "id": "92654a28-f16a-429f-82d3-7a9a27ee7b67",
   "metadata": {},
   "outputs": [],
   "source": [
    "# Step 2: Apply PCA for dimensionality reduction\n",
    "pca = PCA(n_components=2)  # Reduce to 2 principal components for visualization\n",
    "X_train_pca = pca.fit_transform(X_train_scaled)\n",
    "X_test_pca = pca.transform(X_test_scaled)"
   ]
  },
  {
   "cell_type": "markdown",
   "id": "94341b19-24a6-4f2c-9735-2446873d2f53",
   "metadata": {},
   "source": [
    "## Implement Logistic Regression and LDA on normal dataset"
   ]
  },
  {
   "cell_type": "code",
   "execution_count": 39,
   "id": "57776e77-46b7-402f-a14d-716729f46c79",
   "metadata": {},
   "outputs": [
    {
     "name": "stdout",
     "output_type": "stream",
     "text": [
      "Accuracy for Logistic Regression: 0.9736842105263158\n",
      "Accuracy for LDA: 0.956140350877193\n"
     ]
    }
   ],
   "source": [
    "# Logistic Regression\n",
    "lr = LogisticRegression(max_iter=1000, random_state=42)\n",
    "lr.fit(X_train_scaled, y_train)\n",
    "# Predict using the model\n",
    "y_pred_lr = lr.predict(X_test_scaled)\n",
    "\n",
    "## Implement Linear Discriminant Analysis (LDA) as a classifier\n",
    "lda = LinearDiscriminantAnalysis()\n",
    "lda.fit(X_train_scaled, y_train)\n",
    "# Step 3: Predict using the LDA model\n",
    "y_pred = lda.predict(X_test_scaled)\n",
    "\n",
    "# Evaluate the model\n",
    "accuracy_lr = accuracy_score(y_test, y_pred_lr)\n",
    "print(\"Accuracy for Logistic Regression:\", accuracy_lr)\n",
    "\n",
    "# Evaluate the LDA classifier\n",
    "accuracy = accuracy_score(y_test, y_pred)\n",
    "print(\"Accuracy for LDA:\", accuracy)"
   ]
  },
  {
   "cell_type": "markdown",
   "id": "68386c71-2c65-4db8-8bf7-0dd0f38f95a2",
   "metadata": {},
   "source": [
    "## Implement Logistic Regression and LDA on reduced dataset"
   ]
  },
  {
   "cell_type": "code",
   "execution_count": 40,
   "id": "b9686e56-b70b-479e-850d-6488d2a39d03",
   "metadata": {},
   "outputs": [
    {
     "name": "stdout",
     "output_type": "stream",
     "text": [
      "Accuracy for Logistic Regression: 0.9912280701754386\n",
      "Accuracy for LDA: 0.956140350877193\n"
     ]
    }
   ],
   "source": [
    "# Step 3: Implement Logistic Regression and LDA using reduced dataset\n",
    "# Logistic Regression\n",
    "\n",
    "lr = LogisticRegression(max_iter=1000, random_state=42)\n",
    "lr.fit(X_train_pca, y_train)\n",
    "# Predict using the model\n",
    "y_pred_lr = lr.predict(X_test_pca)\n",
    "\n",
    "\n",
    "lda = LinearDiscriminantAnalysis()\n",
    "lda.fit(X_train_pca, y_train)\n",
    "# Step 3: Predict using the LDA model\n",
    "y_pred = lda.predict(X_test_pca)\n",
    "\n",
    "# Evaluate the model\n",
    "accuracy_lr = accuracy_score(y_test, y_pred_lr)\n",
    "print(\"Accuracy for Logistic Regression:\", accuracy_lr)\n",
    "# Step 4: Evaluate the LDA classifier\n",
    "accuracy = accuracy_score(y_test, y_pred)\n",
    "print(\"Accuracy for LDA:\", accuracy)"
   ]
  },
  {
   "cell_type": "markdown",
   "id": "07f5d7ed-9705-4a18-8db4-237b18585610",
   "metadata": {},
   "source": [
    "### DATASET 2: BMI DATASET"
   ]
  },
  {
   "cell_type": "code",
   "execution_count": 41,
   "id": "3dd0e2f7-7d6e-46f2-9e68-a07c6e4c4f3d",
   "metadata": {},
   "outputs": [
    {
     "data": {
      "text/html": [
       "<div>\n",
       "<style scoped>\n",
       "    .dataframe tbody tr th:only-of-type {\n",
       "        vertical-align: middle;\n",
       "    }\n",
       "\n",
       "    .dataframe tbody tr th {\n",
       "        vertical-align: top;\n",
       "    }\n",
       "\n",
       "    .dataframe thead th {\n",
       "        text-align: right;\n",
       "    }\n",
       "</style>\n",
       "<table border=\"1\" class=\"dataframe\">\n",
       "  <thead>\n",
       "    <tr style=\"text-align: right;\">\n",
       "      <th></th>\n",
       "      <th>Gender</th>\n",
       "      <th>Height</th>\n",
       "      <th>Weight</th>\n",
       "      <th>Index</th>\n",
       "    </tr>\n",
       "  </thead>\n",
       "  <tbody>\n",
       "    <tr>\n",
       "      <th>0</th>\n",
       "      <td>Male</td>\n",
       "      <td>161</td>\n",
       "      <td>89</td>\n",
       "      <td>4</td>\n",
       "    </tr>\n",
       "    <tr>\n",
       "      <th>1</th>\n",
       "      <td>Male</td>\n",
       "      <td>179</td>\n",
       "      <td>127</td>\n",
       "      <td>4</td>\n",
       "    </tr>\n",
       "    <tr>\n",
       "      <th>2</th>\n",
       "      <td>Male</td>\n",
       "      <td>172</td>\n",
       "      <td>139</td>\n",
       "      <td>5</td>\n",
       "    </tr>\n",
       "    <tr>\n",
       "      <th>3</th>\n",
       "      <td>Male</td>\n",
       "      <td>153</td>\n",
       "      <td>104</td>\n",
       "      <td>5</td>\n",
       "    </tr>\n",
       "    <tr>\n",
       "      <th>4</th>\n",
       "      <td>Male</td>\n",
       "      <td>165</td>\n",
       "      <td>68</td>\n",
       "      <td>2</td>\n",
       "    </tr>\n",
       "  </tbody>\n",
       "</table>\n",
       "</div>"
      ],
      "text/plain": [
       "  Gender  Height  Weight  Index\n",
       "0   Male     161      89      4\n",
       "1   Male     179     127      4\n",
       "2   Male     172     139      5\n",
       "3   Male     153     104      5\n",
       "4   Male     165      68      2"
      ]
     },
     "execution_count": 41,
     "metadata": {},
     "output_type": "execute_result"
    }
   ],
   "source": [
    "data = pd.read_csv(\"bmi_train.csv\")\n",
    "data.head()"
   ]
  },
  {
   "cell_type": "code",
   "execution_count": 42,
   "id": "af0270f4-f2ae-4381-9e7c-fffa01790e10",
   "metadata": {},
   "outputs": [
    {
     "name": "stdout",
     "output_type": "stream",
     "text": [
      "<class 'pandas.core.frame.DataFrame'>\n",
      "RangeIndex: 400 entries, 0 to 399\n",
      "Data columns (total 4 columns):\n",
      " #   Column  Non-Null Count  Dtype \n",
      "---  ------  --------------  ----- \n",
      " 0   Gender  400 non-null    object\n",
      " 1   Height  400 non-null    int64 \n",
      " 2   Weight  400 non-null    int64 \n",
      " 3   Index   400 non-null    int64 \n",
      "dtypes: int64(3), object(1)\n",
      "memory usage: 12.6+ KB\n"
     ]
    }
   ],
   "source": [
    "data.info()"
   ]
  },
  {
   "cell_type": "code",
   "execution_count": 43,
   "id": "0ea67531-3719-4fd4-842a-d7a138d4483e",
   "metadata": {},
   "outputs": [
    {
     "data": {
      "text/html": [
       "<div>\n",
       "<style scoped>\n",
       "    .dataframe tbody tr th:only-of-type {\n",
       "        vertical-align: middle;\n",
       "    }\n",
       "\n",
       "    .dataframe tbody tr th {\n",
       "        vertical-align: top;\n",
       "    }\n",
       "\n",
       "    .dataframe thead th {\n",
       "        text-align: right;\n",
       "    }\n",
       "</style>\n",
       "<table border=\"1\" class=\"dataframe\">\n",
       "  <thead>\n",
       "    <tr style=\"text-align: right;\">\n",
       "      <th></th>\n",
       "      <th>Gender</th>\n",
       "      <th>Height</th>\n",
       "      <th>Weight</th>\n",
       "      <th>Index</th>\n",
       "    </tr>\n",
       "  </thead>\n",
       "  <tbody>\n",
       "    <tr>\n",
       "      <th>0</th>\n",
       "      <td>1</td>\n",
       "      <td>161</td>\n",
       "      <td>89</td>\n",
       "      <td>4</td>\n",
       "    </tr>\n",
       "    <tr>\n",
       "      <th>1</th>\n",
       "      <td>1</td>\n",
       "      <td>179</td>\n",
       "      <td>127</td>\n",
       "      <td>4</td>\n",
       "    </tr>\n",
       "    <tr>\n",
       "      <th>2</th>\n",
       "      <td>1</td>\n",
       "      <td>172</td>\n",
       "      <td>139</td>\n",
       "      <td>5</td>\n",
       "    </tr>\n",
       "    <tr>\n",
       "      <th>3</th>\n",
       "      <td>1</td>\n",
       "      <td>153</td>\n",
       "      <td>104</td>\n",
       "      <td>5</td>\n",
       "    </tr>\n",
       "    <tr>\n",
       "      <th>4</th>\n",
       "      <td>1</td>\n",
       "      <td>165</td>\n",
       "      <td>68</td>\n",
       "      <td>2</td>\n",
       "    </tr>\n",
       "    <tr>\n",
       "      <th>5</th>\n",
       "      <td>1</td>\n",
       "      <td>172</td>\n",
       "      <td>92</td>\n",
       "      <td>4</td>\n",
       "    </tr>\n",
       "    <tr>\n",
       "      <th>6</th>\n",
       "      <td>1</td>\n",
       "      <td>182</td>\n",
       "      <td>108</td>\n",
       "      <td>4</td>\n",
       "    </tr>\n",
       "    <tr>\n",
       "      <th>7</th>\n",
       "      <td>1</td>\n",
       "      <td>179</td>\n",
       "      <td>130</td>\n",
       "      <td>5</td>\n",
       "    </tr>\n",
       "    <tr>\n",
       "      <th>8</th>\n",
       "      <td>1</td>\n",
       "      <td>142</td>\n",
       "      <td>71</td>\n",
       "      <td>4</td>\n",
       "    </tr>\n",
       "    <tr>\n",
       "      <th>9</th>\n",
       "      <td>0</td>\n",
       "      <td>158</td>\n",
       "      <td>153</td>\n",
       "      <td>5</td>\n",
       "    </tr>\n",
       "  </tbody>\n",
       "</table>\n",
       "</div>"
      ],
      "text/plain": [
       "   Gender  Height  Weight  Index\n",
       "0       1     161      89      4\n",
       "1       1     179     127      4\n",
       "2       1     172     139      5\n",
       "3       1     153     104      5\n",
       "4       1     165      68      2\n",
       "5       1     172      92      4\n",
       "6       1     182     108      4\n",
       "7       1     179     130      5\n",
       "8       1     142      71      4\n",
       "9       0     158     153      5"
      ]
     },
     "execution_count": 43,
     "metadata": {},
     "output_type": "execute_result"
    }
   ],
   "source": [
    "# Applying label encoding\n",
    "from sklearn.preprocessing import LabelEncoder\n",
    "encod = LabelEncoder()\n",
    "data['Gender'] = encod.fit_transform(data['Gender'])\n",
    "data.head(10)"
   ]
  },
  {
   "cell_type": "code",
   "execution_count": 44,
   "id": "68828ca1-99c9-434a-b10c-6f2b96d67d0d",
   "metadata": {},
   "outputs": [
    {
     "data": {
      "text/html": [
       "<div>\n",
       "<style scoped>\n",
       "    .dataframe tbody tr th:only-of-type {\n",
       "        vertical-align: middle;\n",
       "    }\n",
       "\n",
       "    .dataframe tbody tr th {\n",
       "        vertical-align: top;\n",
       "    }\n",
       "\n",
       "    .dataframe thead th {\n",
       "        text-align: right;\n",
       "    }\n",
       "</style>\n",
       "<table border=\"1\" class=\"dataframe\">\n",
       "  <thead>\n",
       "    <tr style=\"text-align: right;\">\n",
       "      <th></th>\n",
       "      <th>Gender</th>\n",
       "      <th>Height</th>\n",
       "      <th>Weight</th>\n",
       "      <th>Index</th>\n",
       "    </tr>\n",
       "  </thead>\n",
       "  <tbody>\n",
       "    <tr>\n",
       "      <th>0</th>\n",
       "      <td>1</td>\n",
       "      <td>161</td>\n",
       "      <td>89</td>\n",
       "      <td>Overweight</td>\n",
       "    </tr>\n",
       "    <tr>\n",
       "      <th>1</th>\n",
       "      <td>1</td>\n",
       "      <td>179</td>\n",
       "      <td>127</td>\n",
       "      <td>Overweight</td>\n",
       "    </tr>\n",
       "    <tr>\n",
       "      <th>2</th>\n",
       "      <td>1</td>\n",
       "      <td>172</td>\n",
       "      <td>139</td>\n",
       "      <td>Extremely overweighted</td>\n",
       "    </tr>\n",
       "    <tr>\n",
       "      <th>3</th>\n",
       "      <td>1</td>\n",
       "      <td>153</td>\n",
       "      <td>104</td>\n",
       "      <td>Extremely overweighted</td>\n",
       "    </tr>\n",
       "    <tr>\n",
       "      <th>4</th>\n",
       "      <td>1</td>\n",
       "      <td>165</td>\n",
       "      <td>68</td>\n",
       "      <td>Fit</td>\n",
       "    </tr>\n",
       "  </tbody>\n",
       "</table>\n",
       "</div>"
      ],
      "text/plain": [
       "   Gender  Height  Weight                   Index\n",
       "0       1     161      89              Overweight\n",
       "1       1     179     127              Overweight\n",
       "2       1     172     139  Extremely overweighted\n",
       "3       1     153     104  Extremely overweighted\n",
       "4       1     165      68                     Fit"
      ]
     },
     "execution_count": 44,
     "metadata": {},
     "output_type": "execute_result"
    }
   ],
   "source": [
    "bins = (-1,0,1,2,3,4,5)\n",
    "Status = ['Malnourished', 'Underweight', 'Fit', 'Slightly Overweight', 'Overweight', 'Extremely overweighted']\n",
    "data['Index'] = pd.cut(data['Index'], bins = bins, labels = Status)\n",
    "data.head()"
   ]
  },
  {
   "cell_type": "code",
   "execution_count": 45,
   "id": "f842444d-6718-4110-9195-4c8224190da0",
   "metadata": {},
   "outputs": [],
   "source": [
    "X = data[['Gender', \"Height\", \"Weight\"]]\n",
    "y = data[\"Index\"]"
   ]
  },
  {
   "cell_type": "code",
   "execution_count": 46,
   "id": "7f5782ca-72a9-4f7b-adc3-5161b7c7a77c",
   "metadata": {},
   "outputs": [],
   "source": [
    "# Splitting the dataset into training and testing sets\n",
    "X_train, X_test, y_train, y_test = train_test_split(X, y, test_size=0.2, random_state=42)"
   ]
  },
  {
   "cell_type": "code",
   "execution_count": 47,
   "id": "065446cb-38e1-4463-a91a-543571214d45",
   "metadata": {},
   "outputs": [],
   "source": [
    "# Standardize the features\n",
    "scaler = StandardScaler()\n",
    "X_train_scaled = scaler.fit_transform(X_train)\n",
    "X_test_scaled = scaler.transform(X_test)"
   ]
  },
  {
   "cell_type": "markdown",
   "id": "ec82b8a5-2278-4f3f-96df-a5e443783797",
   "metadata": {},
   "source": [
    "## Implement Logistic Regression and LDA on normal dataset"
   ]
  },
  {
   "cell_type": "code",
   "execution_count": 48,
   "id": "cd11d50d-5ef5-45fd-bcca-a845540d457d",
   "metadata": {},
   "outputs": [
    {
     "name": "stdout",
     "output_type": "stream",
     "text": [
      "Accuracy for Logistic Regression: 0.7625\n",
      "Accuracy for LDA: 0.85\n"
     ]
    }
   ],
   "source": [
    "# Logistic Regression\n",
    "lr = LogisticRegression(max_iter=1000, random_state=42)\n",
    "lr.fit(X_train_scaled, y_train)\n",
    "# Predict using the model\n",
    "y_pred_lr = lr.predict(X_test_scaled)\n",
    "\n",
    "## Implement Linear Discriminant Analysis (LDA) as a classifier\n",
    "lda = LinearDiscriminantAnalysis()\n",
    "lda.fit(X_train_scaled, y_train)\n",
    "# Step 3: Predict using the LDA model\n",
    "y_pred = lda.predict(X_test_scaled)\n",
    "\n",
    "# Evaluate the model\n",
    "accuracy_lr = accuracy_score(y_test, y_pred_lr)\n",
    "print(\"Accuracy for Logistic Regression:\", accuracy_lr)\n",
    "\n",
    "# Evaluate the LDA classifier\n",
    "accuracy = accuracy_score(y_test, y_pred)\n",
    "print(\"Accuracy for LDA:\", accuracy)"
   ]
  },
  {
   "cell_type": "markdown",
   "id": "25def696-248c-4b87-bc52-fd91beb40bea",
   "metadata": {},
   "source": [
    "## Implement Logistic Regression and LDA on reduced dataset"
   ]
  },
  {
   "cell_type": "code",
   "execution_count": 49,
   "id": "7077689e-4068-48a2-bc7a-e790b6a7fb61",
   "metadata": {},
   "outputs": [],
   "source": [
    "# Step 2: Apply PCA for dimensionality reduction\n",
    "pca = PCA(n_components=2)  # Reduce to 2 principal components for visualization\n",
    "X_train_pca = pca.fit_transform(X_train_scaled)\n",
    "X_test_pca = pca.transform(X_test_scaled)"
   ]
  },
  {
   "cell_type": "code",
   "execution_count": 50,
   "id": "6dfb3e0a-ca2c-4197-9202-4e0dff9e1663",
   "metadata": {},
   "outputs": [
    {
     "name": "stdout",
     "output_type": "stream",
     "text": [
      "Accuracy for Logistic Regression: 0.4375\n",
      "Accuracy for LDA: 0.4375\n"
     ]
    }
   ],
   "source": [
    "# Step 3: Implement Logistic Regression and LDA using reduced dataset\n",
    "# Logistic Regression\n",
    "\n",
    "lr = LogisticRegression(max_iter=1000, random_state=42)\n",
    "lr.fit(X_train_pca, y_train)\n",
    "# Predict using the model\n",
    "y_pred_lr = lr.predict(X_test_pca)\n",
    "\n",
    "\n",
    "lda = LinearDiscriminantAnalysis()\n",
    "lda.fit(X_train_pca, y_train)\n",
    "# Step 3: Predict using the LDA model\n",
    "y_pred = lda.predict(X_test_pca)\n",
    "\n",
    "# Evaluate the model\n",
    "accuracy_lr = accuracy_score(y_test, y_pred_lr)\n",
    "print(\"Accuracy for Logistic Regression:\", accuracy_lr)\n",
    "# Step 4: Evaluate the LDA classifier\n",
    "accuracy = accuracy_score(y_test, y_pred)\n",
    "print(\"Accuracy for LDA:\", accuracy)"
   ]
  },
  {
   "cell_type": "markdown",
   "id": "663aa2e6-2db3-49d9-a868-868c3894a4f6",
   "metadata": {},
   "source": [
    "## Conclusion\n",
    "\n",
    "**Effect of Dimensionality Reduction on the Dataset 1**\n",
    "- We see an significant increase in the accracy of Logistic Regression on applying dimensionality reduction on Breast Cancer dataset whereas the same accuracy is obtained for LDA.\n",
    "\n",
    "\n",
    "**Effect of Dimensionality Reduction on the Dataset 2**\n",
    "\n",
    "- In the second dataset there is a significant drop in the accuracy by applying PCA on the data. The accuracy dropeed to around 50%. "
   ]
  },
  {
   "cell_type": "code",
   "execution_count": null,
   "id": "106f1acf-3a08-4eeb-a580-b36e56def5f5",
   "metadata": {},
   "outputs": [],
   "source": []
  }
 ],
 "metadata": {
  "kernelspec": {
   "display_name": "Python 3 (ipykernel)",
   "language": "python",
   "name": "python3"
  },
  "language_info": {
   "codemirror_mode": {
    "name": "ipython",
    "version": 3
   },
   "file_extension": ".py",
   "mimetype": "text/x-python",
   "name": "python",
   "nbconvert_exporter": "python",
   "pygments_lexer": "ipython3",
   "version": "3.12.2"
  }
 },
 "nbformat": 4,
 "nbformat_minor": 5
}
